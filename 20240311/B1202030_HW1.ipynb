{
  "nbformat": 4,
  "nbformat_minor": 0,
  "metadata": {
    "colab": {
      "provenance": []
    },
    "kernelspec": {
      "name": "python3",
      "display_name": "Python 3"
    },
    "language_info": {
      "name": "python"
    }
  },
  "cells": [
    {
      "cell_type": "code",
      "execution_count": null,
      "metadata": {
        "colab": {
          "base_uri": "https://localhost:8080/"
        },
        "id": "-k1ED75UpSLQ",
        "outputId": "84ab92ab-baf0-4639-c117-e38d87496fe0"
      },
      "outputs": [
        {
          "output_type": "stream",
          "name": "stdout",
          "text": [
            "I'm a student\n"
          ]
        }
      ],
      "source": [
        "a=\"I'm a student\"\n",
        "print(a)"
      ]
    },
    {
      "cell_type": "code",
      "source": [
        "a=float(input(\"請輸入x1:\"))\n",
        "b=float(input(\"請輸入y1:\"))\n",
        "c=float(input(\"請輸入x2:\"))\n",
        "d=float(input(\"請輸入y2:\"))\n",
        "print('AB的距離是',((a-c)**2+(b-d)**2)**0.5)"
      ],
      "metadata": {
        "colab": {
          "base_uri": "https://localhost:8080/"
        },
        "id": "7DpQ4tjxp-l5",
        "outputId": "2d393bd9-00e7-455b-8d6c-3e805601473e"
      },
      "execution_count": 2,
      "outputs": [
        {
          "output_type": "stream",
          "name": "stdout",
          "text": [
            "請輸入x1:0\n",
            "請輸入y1:0\n",
            "請輸入x2:3\n",
            "請輸入y2:4\n",
            "AB的距離是 5.0\n"
          ]
        }
      ]
    },
    {
      "cell_type": "code",
      "source": [
        "a=float(input('請輸入身高(cm)'))\n",
        "b=float(input('請輸入體重(kg)'))\n",
        "a/=100\n",
        "b/=a\n",
        "b/=a\n",
        "print('BMI=',b)"
      ],
      "metadata": {
        "colab": {
          "base_uri": "https://localhost:8080/"
        },
        "id": "jwCPO_7KZsQY",
        "outputId": "bed074ad-bdf6-43ea-d48c-acc9edcbb86f"
      },
      "execution_count": 6,
      "outputs": [
        {
          "output_type": "stream",
          "name": "stdout",
          "text": [
            "請輸入身高(cm)180\n",
            "請輸入體重(kg)70\n",
            "BMI= 21.604938271604937\n"
          ]
        }
      ]
    }
  ]
}