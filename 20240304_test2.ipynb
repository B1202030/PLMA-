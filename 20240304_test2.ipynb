{
  "nbformat": 4,
  "nbformat_minor": 0,
  "metadata": {
    "colab": {
      "provenance": []
    },
    "kernelspec": {
      "name": "python3",
      "display_name": "Python 3"
    },
    "language_info": {
      "name": "python"
    }
  },
  "cells": [
    {
      "cell_type": "code",
      "execution_count": null,
      "metadata": {
        "colab": {
          "base_uri": "https://localhost:8080/"
        },
        "id": "vj7BWsBddmt4",
        "outputId": "dbbbef95-8a66-4a8c-8343-b07d6d6a5f1b"
      },
      "outputs": [
        {
          "output_type": "stream",
          "name": "stdout",
          "text": [
            "the answer is 495\n"
          ]
        }
      ],
      "source": [
        "x=2\n",
        "y=1\n",
        "z=(2*x+y)*(100-y)\n",
        "print(\"the answer is\",z)\n"
      ]
    },
    {
      "cell_type": "code",
      "source": [
        "y=4\n",
        "z=100/(2*y+1)\n",
        "print(\"the answer is\",z)"
      ],
      "metadata": {
        "colab": {
          "base_uri": "https://localhost:8080/"
        },
        "id": "VfVHwM3Qfq9v",
        "outputId": "feed081e-1442-49f1-e12b-2a085a646109"
      },
      "execution_count": null,
      "outputs": [
        {
          "output_type": "stream",
          "name": "stdout",
          "text": [
            "the answer is 11.11111111111111\n"
          ]
        }
      ]
    }
  ]
}