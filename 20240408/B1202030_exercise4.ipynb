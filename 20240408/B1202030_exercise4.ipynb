{
  "nbformat": 4,
  "nbformat_minor": 0,
  "metadata": {
    "colab": {
      "provenance": []
    },
    "kernelspec": {
      "name": "python3",
      "display_name": "Python 3"
    },
    "language_info": {
      "name": "python"
    }
  },
  "cells": [
    {
      "cell_type": "code",
      "source": [
        "a=float(input('請輸入身高(cm)'))\n",
        "b=float(input('請輸入體重(kg)'))\n",
        "a/=100\n",
        "b/=a\n",
        "b/=a\n",
        "c=b\n",
        "print('BMI:',c)\n",
        "if c<18.5:\n",
        "  print('體位:過輕')\n",
        "elif 18.5<=c<24:\n",
        "  print('體位:適中')\n",
        "elif 24<=c<27:\n",
        "  print('體位:過重')\n",
        "else:\n",
        "  print('體位:肥胖')\n",
        "\n"
      ],
      "metadata": {
        "colab": {
          "base_uri": "https://localhost:8080/"
        },
        "id": "vQOz3kd_j8Ii",
        "outputId": "7db21f04-3a56-4f91-d311-2fb4a29ac1fd"
      },
      "execution_count": null,
      "outputs": [
        {
          "output_type": "stream",
          "name": "stdout",
          "text": [
            "請輸入身高(cm)168\n",
            "請輸入體重(kg)67.7376\n",
            "BMI: 24.0\n",
            "體位:過重\n"
          ]
        }
      ]
    },
    {
      "cell_type": "code",
      "source": [
        "a=float(input('請輸入第一個數字:'))\n",
        "b=input('請輸入運算符號:')\n",
        "c=float(input('請輸入第二個數字:'))\n",
        "if b=='+':\n",
        "  print(a+c)\n",
        "elif b=='-':\n",
        "  print(a-c)\n",
        "elif b=='*':\n",
        "  print(a*c)\n",
        "elif b=='/':\n",
        "  print(a/c)\n"
      ],
      "metadata": {
        "colab": {
          "base_uri": "https://localhost:8080/"
        },
        "id": "o-k9CRiZlJi6",
        "outputId": "ff78e7e4-fcc6-4a7d-968a-8418fe6915a1"
      },
      "execution_count": null,
      "outputs": [
        {
          "output_type": "stream",
          "name": "stdout",
          "text": [
            "請輸入第一個數字:10\n",
            "請輸入運算符號:/\n",
            "請輸入第二個數字:2\n",
            "5.0\n"
          ]
        }
      ]
    }
  ]
}