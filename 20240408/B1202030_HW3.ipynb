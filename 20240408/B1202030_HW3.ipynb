{
  "nbformat": 4,
  "nbformat_minor": 0,
  "metadata": {
    "colab": {
      "provenance": []
    },
    "kernelspec": {
      "name": "python3",
      "display_name": "Python 3"
    },
    "language_info": {
      "name": "python"
    }
  },
  "cells": [
    {
      "cell_type": "code",
      "execution_count": null,
      "metadata": {
        "colab": {
          "base_uri": "https://localhost:8080/"
        },
        "id": "wjLjaDjIrkGU",
        "outputId": "c684cfc1-0326-4608-fc5f-8d1c4982464d"
      },
      "outputs": [
        {
          "output_type": "stream",
          "name": "stdout",
          "text": [
            "請輸入年份:2023\n",
            "平年\n"
          ]
        }
      ],
      "source": [
        "a=int(input('請輸入年份:'))\n",
        "if a>1582:\n",
        "  if a%400==0:\n",
        "    print('閏年')\n",
        "  elif a%4==0 and a%100!=0:\n",
        "    print('閏年')\n",
        "  else:\n",
        "    print('平年')\n",
        "elif a%4==0:\n",
        "  print('閏年')\n",
        "else:\n",
        "  print('平年')\n"
      ]
    }
  ]
}