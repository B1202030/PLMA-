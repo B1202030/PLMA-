{
  "nbformat": 4,
  "nbformat_minor": 0,
  "metadata": {
    "colab": {
      "provenance": []
    },
    "kernelspec": {
      "name": "python3",
      "display_name": "Python 3"
    },
    "language_info": {
      "name": "python"
    }
  },
  "cells": [
    {
      "cell_type": "code",
      "execution_count": 39,
      "metadata": {
        "colab": {
          "base_uri": "https://localhost:8080/"
        },
        "id": "4i-oSIwjd6aa",
        "outputId": "436b3764-e7ba-426a-e973-5d0e7ff3f905"
      },
      "outputs": [
        {
          "output_type": "stream",
          "name": "stdout",
          "text": [
            "88.33333333333333\n",
            "{'姓名': '賴宏瑋', '性別': '男', '學號': 'M1129020'}\n",
            "95.0\n",
            "{'姓名': '許珈綺', '性別': '女', '學號': 'M1229001'}\n"
          ]
        }
      ],
      "source": [
        "import copy\n",
        "a=dict(姓名='賴宏瑋',性別='男',作業分數=[95,100,90])\n",
        "b=dict(學號='M1129020')\n",
        "c={**a,**b}\n",
        "d=copy.deepcopy(c)\n",
        "c['作業分數'][1]=80\n",
        "d['姓名']='許珈綺'\n",
        "d['性別']='女'\n",
        "d['學號']='M1229001'\n",
        "e=c.pop('作業分數')\n",
        "f=(e[0]+e[1]+e[2])/3\n",
        "g=d.pop('作業分數')\n",
        "h=(g[0]+g[1]+g[2])/3\n",
        "\n",
        "\n",
        "print(f)\n",
        "print(c)\n",
        "print(h)\n",
        "print(d)\n"
      ]
    },
    {
      "cell_type": "code",
      "source": [
        "a=[100,50,45,60,90,95,80,50]\n",
        "a.insert(0,88)\n",
        "a[2:5]=[70,50]\n",
        "a.remove(50)\n",
        "b=a.pop(0)\n",
        "c=a.pop(5)\n",
        "d=(b+c)\n",
        "print(d)"
      ],
      "metadata": {
        "colab": {
          "base_uri": "https://localhost:8080/"
        },
        "id": "hCOYxOfrk2rO",
        "outputId": "ad256d7d-1809-40ba-92bc-a9a8ac185182"
      },
      "execution_count": 49,
      "outputs": [
        {
          "output_type": "stream",
          "name": "stdout",
          "text": [
            "138\n"
          ]
        }
      ]
    },
    {
      "cell_type": "code",
      "source": [
        "a=347//3\n",
        "b=347%3\n",
        "c=a**b\n",
        "print(a)\n",
        "print(b)\n",
        "print(c)"
      ],
      "metadata": {
        "colab": {
          "base_uri": "https://localhost:8080/"
        },
        "id": "H-LWzr55n3bX",
        "outputId": "ea9b1abd-caa7-41b9-9ca5-53f1dc54449e"
      },
      "execution_count": 53,
      "outputs": [
        {
          "output_type": "stream",
          "name": "stdout",
          "text": [
            "115\n",
            "2\n",
            "13225\n"
          ]
        }
      ]
    }
  ]
}