{
  "nbformat": 4,
  "nbformat_minor": 0,
  "metadata": {
    "colab": {
      "provenance": []
    },
    "kernelspec": {
      "name": "python3",
      "display_name": "Python 3"
    },
    "language_info": {
      "name": "python"
    }
  },
  "cells": [
    {
      "cell_type": "code",
      "source": [
        "def a(height):\n",
        "    for i in range(1, height + 1):\n",
        "        print(\" \" * (height - i) + \"*\" * (2 * i - 1))\n",
        "    for i in range(5):\n",
        "        print(\" \" * (height - 2) + \"***\")\n",
        "height = int(input(\"請輸入聖誕樹的高度：\"))\n",
        "a(height)"
      ],
      "metadata": {
        "colab": {
          "base_uri": "https://localhost:8080/"
        },
        "id": "VLR44QjB3EwV",
        "outputId": "e4a2e409-4951-4e85-bb94-6549779a4fed"
      },
      "execution_count": 21,
      "outputs": [
        {
          "output_type": "stream",
          "name": "stdout",
          "text": [
            "請輸入聖誕樹的高度：9\n",
            "        *\n",
            "       ***\n",
            "      *****\n",
            "     *******\n",
            "    *********\n",
            "   ***********\n",
            "  *************\n",
            " ***************\n",
            "*****************\n",
            "       ***\n",
            "       ***\n",
            "       ***\n",
            "       ***\n",
            "       ***\n"
          ]
        }
      ]
    },
    {
      "cell_type": "code",
      "source": [
        "def calculate_bmi(height, weight):\n",
        "    height_m = height / 100\n",
        "    bmi = weight / (height_m ** 2)\n",
        "    return bmi\n",
        "\n",
        "def interpret_bmi(bmi):\n",
        "    if bmi < 18.5:\n",
        "        return \"過輕\"\n",
        "    elif bmi < 24:\n",
        "        return \"正常\"\n",
        "    elif bmi < 27:\n",
        "        return \"過重\"\n",
        "    elif bmi < 30:\n",
        "        return \"輕度肥胖\"\n",
        "    elif bmi < 35:\n",
        "        return \"中度肥胖\"\n",
        "    else:\n",
        "        return \"重度肥胖\"\n",
        "\n",
        "try:\n",
        "    height = float(input(\"請輸入身高(公分): \"))\n",
        "    weight = float(input(\"請輸入體重(公斤): \"))\n",
        "\n",
        "    bmi = calculate_bmi(height, weight)\n",
        "    print(\"BMI: \",format(bmi))\n",
        "    print(\"體位:\", interpret_bmi(bmi))\n",
        "\n",
        "except:\n",
        "    print(\"輸入內容錯誤\")"
      ],
      "metadata": {
        "colab": {
          "base_uri": "https://localhost:8080/"
        },
        "id": "7uA4MrQH1n49",
        "outputId": "825cdc13-d1d2-41ba-9d18-eea7566938eb"
      },
      "execution_count": 23,
      "outputs": [
        {
          "output_type": "stream",
          "name": "stdout",
          "text": [
            "請輸入身高(公分): 180\n",
            "請輸入體重(公斤): 86\n",
            "BMI:  26.54320987654321\n",
            "體位: 過重\n"
          ]
        }
      ]
    }
  ]
}